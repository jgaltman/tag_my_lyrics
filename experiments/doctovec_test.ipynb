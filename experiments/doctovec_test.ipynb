{
 "cells": [
  {
   "cell_type": "code",
   "execution_count": 25,
   "metadata": {},
   "outputs": [],
   "source": [
    "# imports needed and logging\n",
    "import gzip\n",
    "import gensim \n",
    "import logging\n",
    "from gensim.models import doc2vec\n",
    "import json\n",
    "import os\n",
    "import collections\n",
    "import smart_open\n",
    "import random"
   ]
  },
  {
   "cell_type": "code",
   "execution_count": 17,
   "metadata": {},
   "outputs": [],
   "source": [
    "# test_data_dir = '{}'.format(os.sep).join([gensim.__path__[0], 'test', 'test_data'])\n",
    "# lee_train_file = test_data_dir + os.sep + 'lee_background.cor'\n",
    "# lee_test_file = test_data_dir + os.sep + 'lee.cor'\n",
    "\n",
    "lyric_train_file = \"example_lyrics.json\"\n",
    "lyric_test_file = \"example_test_lyrics.json\"\n",
    "train_data = {}\n",
    "with open(lyric_train_file) as f:  \n",
    "    train_data = json.load(f)\n",
    "test_data = {}\n",
    "with open(lyric_test_file) as f:  \n",
    "    test_data = json.load(f)\n",
    "\n",
    "# train_corpus = []\n",
    "# count = 0\n",
    "# for key,line in data.items():\n",
    "#     train_corpus.append(gensim.models.doc2vec.TaggedDocument(gensim.utils.simple_preprocess(line), [count]))\n",
    "#     count+=1\n",
    "# print(train_corpus[0])"
   ]
  },
  {
   "cell_type": "code",
   "execution_count": 14,
   "metadata": {},
   "outputs": [],
   "source": [
    "def read_corpus(_data, tokens_only=False):\n",
    "    i = 0\n",
    "    for key,line in _data.items():\n",
    "        if tokens_only:\n",
    "            yield gensim.utils.simple_preprocess(line)\n",
    "        else:\n",
    "            # For training data, add tags\n",
    "            yield gensim.models.doc2vec.TaggedDocument(gensim.utils.simple_preprocess(line), [i])\n",
    "        i+=1\n",
    "            "
   ]
  },
  {
   "cell_type": "code",
   "execution_count": 18,
   "metadata": {},
   "outputs": [
    {
     "name": "stdout",
     "output_type": "stream",
     "text": [
      "[TaggedDocument(words=['yeah', 'this', 'album', 'is', 'dedicated', 'to', 'all', 'the', 'teachers', 'that', 'told', 'me', 'never', 'amount', 'to', 'nothin', 'to', 'all', 'the', 'people', 'that', 'lived', 'above', 'the', 'buildings', 'that', 'was', 'hustlin', 'in', 'front', 'of', 'called', 'the', 'police', 'on', 'me', 'when', 'was', 'just', 'tryin', 'to', 'make', 'some', 'money', 'to', 'feed', 'my', 'daughter', 'it', 'all', 'good', 'and', 'all', 'the', 'niggas', 'in', 'the', 'struggle', 'you', 'know', 'what', 'sayin', 'it', 'all', 'good', 'baby', 'baby', 'it', 'was', 'all', 'dream', 'used', 'to', 'read', 'word', 'up', 'magazine', 'salt', 'pepa', 'and', 'heavy', 'up', 'in', 'the', 'limousine', 'hangin', 'pictures', 'on', 'my', 'wall', 'every', 'saturday', 'rap', 'attack', 'mr', 'magic', 'marley', 'marl', 'let', 'my', 'tape', 'rock', 'til', 'my', 'tape', 'popped', 'smokin', 'weed', 'in', 'bambu', 'sippin', 'on', 'private', 'stock', 'way', 'back', 'when', 'had', 'the', 'red', 'and', 'black', 'lumberjack', 'with', 'the', 'hat', 'to', 'match', 'remember', 'rappin', 'duke', 'duh', 'ha', 'duh', 'ha', 'you', 'never', 'thought', 'that', 'hip', 'hop', 'would', 'take', 'it', 'this', 'far', 'now', 'in', 'the', 'limelight', 'cause', 'rhyme', 'tight', 'time', 'to', 'get', 'paid', 'blow', 'up', 'like', 'the', 'world', 'trade', 'born', 'sinner', 'the', 'opposite', 'of', 'winner', 'remember', 'when', 'used', 'to', 'eat', 'sardines', 'for', 'dinner', 'peace', 'to', 'ron', 'brucie', 'kid', 'capri', 'funkmaster', 'flex', 'lovebug', 'starski', 'blowin', 'up', 'like', 'you', 'thought', 'would', 'call', 'the', 'crib', 'same', 'number', 'same', 'hood', 'it', 'all', 'good', 'it', 'all', 'good', 'and', 'if', 'you', 'don', 'know', 'now', 'you', 'know', 'nigga', 'you', 'know', 'very', 'well', 'who', 'you', 'are', 'don', 'let', 'em', 'hold', 'you', 'down', 'reach', 'for', 'the', 'stars', 'you', 'had', 'goal', 'but', 'not', 'that', 'many', 'cause', 'you', 're', 'the', 'only', 'one', 'll', 'give', 'you', 'good', 'and', 'plenty', 'made', 'the', 'change', 'from', 'common', 'thief', 'to', 'up', 'close', 'and', 'personal', 'with', 'robin', 'leach', 'and', 'far', 'from', 'cheap', 'smoke', 'skunk', 'with', 'my', 'peeps', 'all', 'day', 'spread', 'love', 'it', 'the', 'brooklyn', 'way', 'the', 'moët', 'and', 'alizé', 'keep', 'me', 'pissy', 'girls', 'used', 'to', 'diss', 'me', 'now', 'they', 'write', 'letters', 'cause', 'they', 'miss', 'me', 'never', 'thought', 'it', 'could', 'happen', 'this', 'rappin', 'stuff', 'was', 'too', 'used', 'to', 'packin', 'gats', 'and', 'stuff', 'now', 'honeys', 'play', 'me', 'close', 'like', 'butter', 'play', 'toast', 'from', 'the', 'mississippi', 'down', 'to', 'the', 'east', 'coast', 'condos', 'in', 'queens', 'indo', 'for', 'weeks', 'sold', 'out', 'seats', 'to', 'hear', 'biggie', 'smalls', 'speak', 'livin', 'life', 'without', 'fear', 'puttin', 'five', 'karats', 'in', 'my', 'baby', 'girl', 'ear', 'lunches', 'brunches', 'interviews', 'by', 'the', 'pool', 'considered', 'fool', 'cause', 'dropped', 'out', 'of', 'high', 'school', 'stereotypes', 'of', 'black', 'male', 'misunderstood', 'and', 'it', 'still', 'all', 'good', 'and', 'if', 'you', 'don', 'know', 'now', 'you', 'know', 'nigga', 'you', 'know', 'very', 'well', 'who', 'you', 'are', 'don', 'let', 'em', 'hold', 'you', 'down', 'reach', 'for', 'the', 'stars', 'you', 'had', 'goal', 'but', 'not', 'that', 'many', 'cause', 'you', 're', 'the', 'only', 'one', 'll', 'give', 'you', 'good', 'and', 'plenty', 'super', 'nintendo', 'sega', 'genesis', 'when', 'was', 'dead', 'broke', 'man', 'couldn', 'picture', 'this', 'inch', 'screen', 'money', 'green', 'leather', 'sofa', 'got', 'two', 'rides', 'limousine', 'with', 'chauffeur', 'phone', 'bill', 'about', 'two', 'flat', 'no', 'need', 'to', 'worry', 'my', 'accountant', 'handles', 'that', 'and', 'my', 'whole', 'crew', 'is', 'loungin', 'celebratin', 'every', 'day', 'no', 'more', 'public', 'housin', 'thinkin', 'back', 'on', 'my', 'one', 'room', 'shack', 'now', 'my', 'mom', 'pimps', 'ac', 'with', 'minks', 'on', 'her', 'back', 'and', 'she', 'loves', 'to', 'show', 'me', 'off', 'of', 'course', 'smiles', 'every', 'time', 'my', 'face', 'is', 'up', 'in', 'the', 'source', 'we', 'used', 'to', 'fuss', 'when', 'the', 'landlord', 'dissed', 'us', 'no', 'heat', 'wonder', 'why', 'christmas', 'missed', 'us', 'birthdays', 'was', 'the', 'worst', 'days', 'now', 'we', 'sip', 'champagne', 'when', 'we', 'thirsty', 'uh', 'damn', 'right', 'like', 'the', 'life', 'live', 'cause', 'went', 'from', 'negative', 'to', 'positive', 'and', 'it', 'all', 'it', 'all', 'good', 'nigga', 'and', 'if', 'you', 'don', 'know', 'now', 'you', 'know', 'nigga', 'you', 'know', 'very', 'well', 'who', 'you', 'are', 'don', 'let', 'em', 'hold', 'you', 'down', 'and', 'if', 'you', 'don', 'know', 'now', 'you', 'know', 'nigga', 'reach', 'for', 'the', 'stars', 'you', 'had', 'goal', 'but', 'not', 'that', 'many', 'cause', 'you', 're', 'the', 'only', 'one', 'and', 'if', 'you', 'don', 'know', 'now', 'you', 'know', 'nigga', 'll', 'give', 'you', 'good', 'and', 'plenty', 'representin', 'town', 'in', 'the', 'house', 'junior', 'mafia', 'mad', 'flavor', 'uh', 'uh', 'yeah', 'aight', 'you', 'know', 'very', 'well', 'who', 'you', 'are', 'don', 'let', 'em', 'hold', 'you', 'down', 'reach', 'for', 'the', 'stars', 'you', 'had', 'goal', 'but', 'not', 'that', 'many', 'cause', 'you', 're', 'the', 'only', 'one', 'll', 'give', 'you', 'good', 'and', 'plenty', 'biggie', 'smalls', 'it', 'all', 'good', 'nigga', 'junior', 'mafia', 'it', 'all', 'good', 'nigga', 'bad', 'boy', 'it', 'all', 'good', 'nigga', 'it', 'all', 'good', 'that', 'right', 'and', 'on', 'and', 'on', 'and', 'on', 'and', 'on', 'you', 'know', 'very', 'well', 'who', 'you', 'are', 'don', 'let', 'em', 'hold', 'you', 'down', 'reach', 'for', 'the', 'stars'], tags=[0])]\n"
     ]
    }
   ],
   "source": [
    "train_corpus = list(read_corpus(train_data))\n",
    "test_corpus = list(read_corpus(test_data, tokens_only=True))\n",
    "print(train_corpus[:1])"
   ]
  },
  {
   "cell_type": "code",
   "execution_count": 19,
   "metadata": {},
   "outputs": [],
   "source": [
    "model = gensim.models.doc2vec.Doc2Vec(vector_size=50, min_count=2, epochs=40)"
   ]
  },
  {
   "cell_type": "code",
   "execution_count": 20,
   "metadata": {},
   "outputs": [],
   "source": [
    "model.build_vocab(train_corpus)"
   ]
  },
  {
   "cell_type": "code",
   "execution_count": 21,
   "metadata": {},
   "outputs": [
    {
     "name": "stdout",
     "output_type": "stream",
     "text": [
      "CPU times: user 161 ms, sys: 29.4 ms, total: 191 ms\n",
      "Wall time: 188 ms\n"
     ]
    }
   ],
   "source": [
    "%time model.train(train_corpus, total_examples=model.corpus_count, epochs=model.epochs)"
   ]
  },
  {
   "cell_type": "code",
   "execution_count": 22,
   "metadata": {},
   "outputs": [
    {
     "data": {
      "text/plain": [
       "array([ 0.04687589, -0.01503481,  0.03382487, -0.00528468, -0.0259236 ,\n",
       "       -0.01881934, -0.0241199 , -0.02302958,  0.05098238,  0.02495525,\n",
       "        0.01949299,  0.02376367,  0.00277763, -0.03284064, -0.00383121,\n",
       "       -0.00833727, -0.02387964, -0.00026465, -0.0551689 , -0.03285943,\n",
       "        0.03448899, -0.01002029,  0.06430416, -0.02841065,  0.01611285,\n",
       "       -0.02201502,  0.0144625 ,  0.03884128, -0.0165611 , -0.01525949,\n",
       "       -0.00292809,  0.0333811 , -0.00985382, -0.03546102,  0.06238037,\n",
       "       -0.01388395, -0.0001457 ,  0.04681368,  0.05883223, -0.00876173,\n",
       "        0.0414249 ,  0.03254603,  0.04218918,  0.00704454, -0.06274661,\n",
       "        0.02074599, -0.02484215,  0.05798219,  0.01415981, -0.00282075],\n",
       "      dtype=float32)"
      ]
     },
     "execution_count": 22,
     "metadata": {},
     "output_type": "execute_result"
    }
   ],
   "source": [
    "model.infer_vector(['we', 'will', 'rock', 'you'])"
   ]
  },
  {
   "cell_type": "code",
   "execution_count": 26,
   "metadata": {},
   "outputs": [],
   "source": [
    "ranks = []\n",
    "second_ranks = []\n",
    "for doc_id in range(len(train_corpus)):\n",
    "    inferred_vector = model.infer_vector(train_corpus[doc_id].words)\n",
    "    sims = model.docvecs.most_similar([inferred_vector], topn=len(model.docvecs))\n",
    "    rank = [docid for docid, sim in sims].index(doc_id)\n",
    "    ranks.append(rank)\n",
    "    \n",
    "    second_ranks.append(sims[1])"
   ]
  },
  {
   "cell_type": "code",
   "execution_count": 27,
   "metadata": {},
   "outputs": [
    {
     "data": {
      "text/plain": [
       "Counter({0: 4})"
      ]
     },
     "execution_count": 27,
     "metadata": {},
     "output_type": "execute_result"
    }
   ],
   "source": [
    "collections.Counter(ranks)"
   ]
  },
  {
   "cell_type": "code",
   "execution_count": 28,
   "metadata": {},
   "outputs": [
    {
     "name": "stdout",
     "output_type": "stream",
     "text": [
      "Document (3): «look was gonna go easy on you and not to hurt your feelings but only going to get this one chance something wrong can feel it six minutes slim shady you re on just feeling ve got like something about to happen but don know what if that means what think it means we re in trouble big trouble and if he is as bananas as you say not taking any chances you were just what the doctor ordered beginning to feel like rap god rap god all my people from the front to the back nod back nod now who thinks their arms are long enough to slap box slap box they said rap like robot so call me rapbot but for me to rap like computer must be in my genes got laptop in my back pocket my pen ll go off when half cock it got fat knot from that rap profit made living and killing off it ever since bill clinton was still in office with monica lewinsky feeling on his nut sack an mc still as honest but as rude and indecent as all hell syllables killaholic kill em all with this slickety gibbedy hibbedy hip hop you don really wanna get into pissing match with this rappidy brat packing mac in the back of the ac backpack rap crap yep yackidy yac and at the exact same time attempt these lyrical acrobat stunts while practicing that ll still be able to break motherfuckin table over the back of couple of faggots and crack it in half only realized it was ironic was signed to aftermath after the fact how could not blow all do is drop bombs feel my wrath of attack rappers are having rough time period here maxipad it actually disastrously bad for the wack while masterfully constructing this masterpiece as beginning to feel like rap god rap god all my people from the front to the back nod back nod now who thinks their arms are long enough to slap box slap box let me show you maintaining this shit ain that hard that hard everybody want the key and the secret to rap immortality like have got well to be truthful the blueprint simply rage and youthful exuberance everybody loves to root for nuisance hit the earth like an asteroid did nothing but shoot for the moon since mc get taken to school with this music cause use it as vehicle to bus the rhyme now lead new school full of students me product of rakim lakim shabazz pac cube hey doc ren yella eazy thank you they got slim inspired enough to one day grow up blow up and be in position to meet run dmc and induct them into the motherfuckin rock roll hall of fame even though walk in the church and burst in ball of flames only hall of fame be inducted in is the alcohol of fame on the wall of shame you fags think it all game til walk flock of flames off of planking tell me what in the fuck are you thinking little gay looking boy so gay can barely say it with straight face looking boy you witnessing mass occur like you watching church gathering take place looking boy oy vey that boy gay that all they say looking boy you get thumbs up pat on the back and way to go from your label everyday looking boy hey looking boy what you say looking boy got hell yeah from dre looking boy mma work for everything have never ask nobody for shit get outta my face looking boy basically boy you re never gonna be capable to keep up with the same pace looking boy cause beginning to feel like rap god rap god all my people from the front to the back nod back nod the way racing around the track call me nascar nascar dale earnhardt of the trailer park the white trash god kneel before general zod this planet krypton no asgard asgard so you be thor and ll be odin you rodent omnipotent let off then reloading immediately with these bombs totin and should not be woken the walking dead but just talking head zombie floating but got your mom deep throating out my ramen noodle we have nothing in common poodle doberman pinch yourself in the arm and pay homage pupil it me my honesty brutal but it honestly futile if don utilize what do though for good at least once in while so wanna make sure somewhere in this chicken scratch scribble and doodle enough rhymes to maybe to try and help get some people through tough times but gotta keep few punchlines just in case cause even you unsigned rappers are hungry looking at me like it lunchtime know there was time where once was king of the underground but still rap like on my pharoahe monch grind so crunch rhymes but sometimes when you combine appeal with the skin color of mine you get too big and here they come trying to censor you like that one line said on back from the mathers lp one when tried to say ll take seven kids from columbine put em all in line add an ak revolver and nine see if get away with it now that ain as big as was but morphin into an immortal coming through the portal you re stuck in time warp from though and don know what the fuck that you rhyme for you re pointless as rapunzel with fucking cornrows you write normal fuck being normal and just bought new raygun from the future just to come and shoot ya like when fabolous made ray mad cause fab said he looked like fag at maywhether pad singin to man while they played piano man oh man that was special on the cable channel so ray went straight to the radio station the very next day hey fab mma kill you lyrics coming at you at supersonic speed jj fad uh sama lamaa duma lamaa you assuming human what gotta do to get it through to you superhuman innovative and made of rubber so that anything you say is ricocheting off of me and it ll glue to you devastating more than ever demonstrating how to give motherfuckin audience feeling like it levitating never fading and know that the haters are forever waiting for the day that they can say fell off they be celebrating cause know the way to get em motivated make elevating music you make elevator music oh he too mainstream well that what they do when they get jealous they confuse it it not hip hop it pop cause found hella way to fuse it with rock shock rap with doc throw on lose yourself and make em lose it don know how to make songs like that don know what words to use let me know when it occurs to you while ripping any one of these verses diverse as you it curtains inadvertently hurtin you how many verses gotta murder to prove that if you were half as nice your songs you can sacrifice virgins too uh school flunkie pill junky but look at the accolades the skills brung me full of myself but still hungry bully myself cause make me do what put my mind to and million leagues above you ill when speak in tongues but it still tongue in cheek fuck you drunk so satan take the fucking wheel asleep in the front seat bumping heavy and the boys still chunky but funky but in my head there something can feel tugging and struggling angels fight with devils and here what they want from me they asking me to eliminate some of the women hate but if you take into consideration the bitter hatred have then you may be little patient and more sympathetic to the situation and understand the discrimination but fuck it life handing you lemons make lemonade then but if can batter the women how the fuck am supposed to bake them cake then don mistake it for satan it fatal mistake if you think need to be overseas and take vacation to trip broad and make her fall on her face and don be retard be king think not why be king when you can be god»\n",
      "\n",
      "SIMILAR/DISSIMILAR DOCS PER MODEL Doc2Vec(dm/m,d50,n5,w5,mc2,s0.001,t3):\n",
      "\n",
      "MOST (3, 0.9986284971237183): «look was gonna go easy on you and not to hurt your feelings but only going to get this one chance something wrong can feel it six minutes slim shady you re on just feeling ve got like something about to happen but don know what if that means what think it means we re in trouble big trouble and if he is as bananas as you say not taking any chances you were just what the doctor ordered beginning to feel like rap god rap god all my people from the front to the back nod back nod now who thinks their arms are long enough to slap box slap box they said rap like robot so call me rapbot but for me to rap like computer must be in my genes got laptop in my back pocket my pen ll go off when half cock it got fat knot from that rap profit made living and killing off it ever since bill clinton was still in office with monica lewinsky feeling on his nut sack an mc still as honest but as rude and indecent as all hell syllables killaholic kill em all with this slickety gibbedy hibbedy hip hop you don really wanna get into pissing match with this rappidy brat packing mac in the back of the ac backpack rap crap yep yackidy yac and at the exact same time attempt these lyrical acrobat stunts while practicing that ll still be able to break motherfuckin table over the back of couple of faggots and crack it in half only realized it was ironic was signed to aftermath after the fact how could not blow all do is drop bombs feel my wrath of attack rappers are having rough time period here maxipad it actually disastrously bad for the wack while masterfully constructing this masterpiece as beginning to feel like rap god rap god all my people from the front to the back nod back nod now who thinks their arms are long enough to slap box slap box let me show you maintaining this shit ain that hard that hard everybody want the key and the secret to rap immortality like have got well to be truthful the blueprint simply rage and youthful exuberance everybody loves to root for nuisance hit the earth like an asteroid did nothing but shoot for the moon since mc get taken to school with this music cause use it as vehicle to bus the rhyme now lead new school full of students me product of rakim lakim shabazz pac cube hey doc ren yella eazy thank you they got slim inspired enough to one day grow up blow up and be in position to meet run dmc and induct them into the motherfuckin rock roll hall of fame even though walk in the church and burst in ball of flames only hall of fame be inducted in is the alcohol of fame on the wall of shame you fags think it all game til walk flock of flames off of planking tell me what in the fuck are you thinking little gay looking boy so gay can barely say it with straight face looking boy you witnessing mass occur like you watching church gathering take place looking boy oy vey that boy gay that all they say looking boy you get thumbs up pat on the back and way to go from your label everyday looking boy hey looking boy what you say looking boy got hell yeah from dre looking boy mma work for everything have never ask nobody for shit get outta my face looking boy basically boy you re never gonna be capable to keep up with the same pace looking boy cause beginning to feel like rap god rap god all my people from the front to the back nod back nod the way racing around the track call me nascar nascar dale earnhardt of the trailer park the white trash god kneel before general zod this planet krypton no asgard asgard so you be thor and ll be odin you rodent omnipotent let off then reloading immediately with these bombs totin and should not be woken the walking dead but just talking head zombie floating but got your mom deep throating out my ramen noodle we have nothing in common poodle doberman pinch yourself in the arm and pay homage pupil it me my honesty brutal but it honestly futile if don utilize what do though for good at least once in while so wanna make sure somewhere in this chicken scratch scribble and doodle enough rhymes to maybe to try and help get some people through tough times but gotta keep few punchlines just in case cause even you unsigned rappers are hungry looking at me like it lunchtime know there was time where once was king of the underground but still rap like on my pharoahe monch grind so crunch rhymes but sometimes when you combine appeal with the skin color of mine you get too big and here they come trying to censor you like that one line said on back from the mathers lp one when tried to say ll take seven kids from columbine put em all in line add an ak revolver and nine see if get away with it now that ain as big as was but morphin into an immortal coming through the portal you re stuck in time warp from though and don know what the fuck that you rhyme for you re pointless as rapunzel with fucking cornrows you write normal fuck being normal and just bought new raygun from the future just to come and shoot ya like when fabolous made ray mad cause fab said he looked like fag at maywhether pad singin to man while they played piano man oh man that was special on the cable channel so ray went straight to the radio station the very next day hey fab mma kill you lyrics coming at you at supersonic speed jj fad uh sama lamaa duma lamaa you assuming human what gotta do to get it through to you superhuman innovative and made of rubber so that anything you say is ricocheting off of me and it ll glue to you devastating more than ever demonstrating how to give motherfuckin audience feeling like it levitating never fading and know that the haters are forever waiting for the day that they can say fell off they be celebrating cause know the way to get em motivated make elevating music you make elevator music oh he too mainstream well that what they do when they get jealous they confuse it it not hip hop it pop cause found hella way to fuse it with rock shock rap with doc throw on lose yourself and make em lose it don know how to make songs like that don know what words to use let me know when it occurs to you while ripping any one of these verses diverse as you it curtains inadvertently hurtin you how many verses gotta murder to prove that if you were half as nice your songs you can sacrifice virgins too uh school flunkie pill junky but look at the accolades the skills brung me full of myself but still hungry bully myself cause make me do what put my mind to and million leagues above you ill when speak in tongues but it still tongue in cheek fuck you drunk so satan take the fucking wheel asleep in the front seat bumping heavy and the boys still chunky but funky but in my head there something can feel tugging and struggling angels fight with devils and here what they want from me they asking me to eliminate some of the women hate but if you take into consideration the bitter hatred have then you may be little patient and more sympathetic to the situation and understand the discrimination but fuck it life handing you lemons make lemonade then but if can batter the women how the fuck am supposed to bake them cake then don mistake it for satan it fatal mistake if you think need to be overseas and take vacation to trip broad and make her fall on her face and don be retard be king think not why be king when you can be god»\n",
      "\n",
      "SECOND-MOST (0, 0.9533122181892395): «yeah this album is dedicated to all the teachers that told me never amount to nothin to all the people that lived above the buildings that was hustlin in front of called the police on me when was just tryin to make some money to feed my daughter it all good and all the niggas in the struggle you know what sayin it all good baby baby it was all dream used to read word up magazine salt pepa and heavy up in the limousine hangin pictures on my wall every saturday rap attack mr magic marley marl let my tape rock til my tape popped smokin weed in bambu sippin on private stock way back when had the red and black lumberjack with the hat to match remember rappin duke duh ha duh ha you never thought that hip hop would take it this far now in the limelight cause rhyme tight time to get paid blow up like the world trade born sinner the opposite of winner remember when used to eat sardines for dinner peace to ron brucie kid capri funkmaster flex lovebug starski blowin up like you thought would call the crib same number same hood it all good it all good and if you don know now you know nigga you know very well who you are don let em hold you down reach for the stars you had goal but not that many cause you re the only one ll give you good and plenty made the change from common thief to up close and personal with robin leach and far from cheap smoke skunk with my peeps all day spread love it the brooklyn way the moët and alizé keep me pissy girls used to diss me now they write letters cause they miss me never thought it could happen this rappin stuff was too used to packin gats and stuff now honeys play me close like butter play toast from the mississippi down to the east coast condos in queens indo for weeks sold out seats to hear biggie smalls speak livin life without fear puttin five karats in my baby girl ear lunches brunches interviews by the pool considered fool cause dropped out of high school stereotypes of black male misunderstood and it still all good and if you don know now you know nigga you know very well who you are don let em hold you down reach for the stars you had goal but not that many cause you re the only one ll give you good and plenty super nintendo sega genesis when was dead broke man couldn picture this inch screen money green leather sofa got two rides limousine with chauffeur phone bill about two flat no need to worry my accountant handles that and my whole crew is loungin celebratin every day no more public housin thinkin back on my one room shack now my mom pimps ac with minks on her back and she loves to show me off of course smiles every time my face is up in the source we used to fuss when the landlord dissed us no heat wonder why christmas missed us birthdays was the worst days now we sip champagne when we thirsty uh damn right like the life live cause went from negative to positive and it all it all good nigga and if you don know now you know nigga you know very well who you are don let em hold you down and if you don know now you know nigga reach for the stars you had goal but not that many cause you re the only one and if you don know now you know nigga ll give you good and plenty representin town in the house junior mafia mad flavor uh uh yeah aight you know very well who you are don let em hold you down reach for the stars you had goal but not that many cause you re the only one ll give you good and plenty biggie smalls it all good nigga junior mafia it all good nigga bad boy it all good nigga it all good that right and on and on and on and on you know very well who you are don let em hold you down reach for the stars»\n",
      "\n",
      "MEDIAN (2, 0.9486008882522583): «every time look in the mirror all these lines on my face getting clearer the past is gone it went by like dusk to dawn isn that the way everybody got their dues in life to pay yeah know nobody knows where it comes and where it goes know it everybody sin you got to lose to know how to win half my life in books written pages live and learn from fools and from sages you know it true all the things come back to you sing with me sing for the year sing for the laughter sing for the tear sing with me if it just for today maybe tomorrow the good lord will take you away yeah sing with me sing for the year sing for the laughter sing for the tear sing with me if it just for today maybe tomorrow the good lord will take you away dream on dream on dream on dream until your dream comes true dream on dream on dream on dream until your dream comes through dream on dream on dream on dream on dream on dream on dream on ah sing with me sing for the year sing for the laughter sing for the tear sing with me if it just for today maybe tomorrow the good lord will take you away sing with me sing for the year sing for the laughter sing for the tear sing with me just for today maybe tomorrow the good lord will take you away»\n",
      "\n",
      "LEAST (1, 0.9281002879142761): «people try to put us down talkin bout my generation just because we get around talkin bout my generation things they do look awful cold talkin bout my generation hope die before get old talkin bout my generation this is my generation this is my generation baby why don you all fade away talkin bout my generation and don try to dig what we all say talkin bout my generation not trying to cause big sensation talkin bout my generation just talkin bout my generation talkin bout my generation this is my generation this is my generation baby why don you all fade away talkin bout my generation and don try to dig what we all say talkin bout my generation not trying to cause big sensation talkin bout my generation just talkin bout my generation talkin bout my generation this is my generation this is my generation baby people try to put us down talkin bout my generation just because we get around talkin bout my generation things they do look awful cold talkin bout my generation yeah hope die before get old talkin bout my generation this is my generation this is my generation baby»\n",
      "\n"
     ]
    }
   ],
   "source": [
    "print('Document ({}): «{}»\\n'.format(doc_id, ' '.join(train_corpus[doc_id].words)))\n",
    "print(u'SIMILAR/DISSIMILAR DOCS PER MODEL %s:\\n' % model)\n",
    "for label, index in [('MOST', 0), ('SECOND-MOST', 1), ('MEDIAN', len(sims)//2), ('LEAST', len(sims) - 1)]:\n",
    "    print(u'%s %s: «%s»\\n' % (label, sims[index], ' '.join(train_corpus[sims[index][0]].words)))\n"
   ]
  },
  {
   "cell_type": "code",
   "execution_count": 31,
   "metadata": {},
   "outputs": [
    {
     "name": "stdout",
     "output_type": "stream",
     "text": [
      "Test Document (1): «yeah they wishin and wishin and wishin and wishin they wishin on me yuh been movin calm don start no trouble with me tryna keep it peaceful is struggle for me don pull up at am to cuddle with me you know how like it when you lovin on me don wanna die for them to miss me yes see the things that they wishin on me hope got some brothers that outlive me they gon tell the story shit was different with me god plan god plan hold back sometimes won yuh feel good sometimes don ay don finessed down weston road ay nessed might go down yeah wait go hard on southside yuh way make sure that north side eat and still bad things it lot of bad things that they wishin and wishin and wishin and wishin they wishin on me bad things it lot of bad things that they wishin and wishin and wishin and wishin they wishin on me yuh ay ay she say do you love me tell her only partly only love my bed and my momma sorry fifty dub even got it tatted on me they ll bring the crashers to the party and you know me turn the into the dog without oli there would be no me imagine if never met the broskies god plan god plan can do this on my own ay no ay someone watchin this shit close yep close ve been me since scarlett road ay road ay might go down as yeah wait go hard on southside ay way make sure that north side eat yuh and still bad things it lot of bad things that they wishin and wishin and wishin and wishin they wishin on me yeah yeah bad things it lot of bad things that they wishin and wishin and wishin and wishin they wishin on me yeah»\n",
      "\n",
      "SIMILAR/DISSIMILAR DOCS PER MODEL Doc2Vec(dm/m,d50,n5,w5,mc2,s0.001,t3):\n",
      "\n",
      "MOST (0, 0.9922178983688354): «yeah this album is dedicated to all the teachers that told me never amount to nothin to all the people that lived above the buildings that was hustlin in front of called the police on me when was just tryin to make some money to feed my daughter it all good and all the niggas in the struggle you know what sayin it all good baby baby it was all dream used to read word up magazine salt pepa and heavy up in the limousine hangin pictures on my wall every saturday rap attack mr magic marley marl let my tape rock til my tape popped smokin weed in bambu sippin on private stock way back when had the red and black lumberjack with the hat to match remember rappin duke duh ha duh ha you never thought that hip hop would take it this far now in the limelight cause rhyme tight time to get paid blow up like the world trade born sinner the opposite of winner remember when used to eat sardines for dinner peace to ron brucie kid capri funkmaster flex lovebug starski blowin up like you thought would call the crib same number same hood it all good it all good and if you don know now you know nigga you know very well who you are don let em hold you down reach for the stars you had goal but not that many cause you re the only one ll give you good and plenty made the change from common thief to up close and personal with robin leach and far from cheap smoke skunk with my peeps all day spread love it the brooklyn way the moët and alizé keep me pissy girls used to diss me now they write letters cause they miss me never thought it could happen this rappin stuff was too used to packin gats and stuff now honeys play me close like butter play toast from the mississippi down to the east coast condos in queens indo for weeks sold out seats to hear biggie smalls speak livin life without fear puttin five karats in my baby girl ear lunches brunches interviews by the pool considered fool cause dropped out of high school stereotypes of black male misunderstood and it still all good and if you don know now you know nigga you know very well who you are don let em hold you down reach for the stars you had goal but not that many cause you re the only one ll give you good and plenty super nintendo sega genesis when was dead broke man couldn picture this inch screen money green leather sofa got two rides limousine with chauffeur phone bill about two flat no need to worry my accountant handles that and my whole crew is loungin celebratin every day no more public housin thinkin back on my one room shack now my mom pimps ac with minks on her back and she loves to show me off of course smiles every time my face is up in the source we used to fuss when the landlord dissed us no heat wonder why christmas missed us birthdays was the worst days now we sip champagne when we thirsty uh damn right like the life live cause went from negative to positive and it all it all good nigga and if you don know now you know nigga you know very well who you are don let em hold you down and if you don know now you know nigga reach for the stars you had goal but not that many cause you re the only one and if you don know now you know nigga ll give you good and plenty representin town in the house junior mafia mad flavor uh uh yeah aight you know very well who you are don let em hold you down reach for the stars you had goal but not that many cause you re the only one ll give you good and plenty biggie smalls it all good nigga junior mafia it all good nigga bad boy it all good nigga it all good that right and on and on and on and on you know very well who you are don let em hold you down reach for the stars»\n",
      "\n",
      "MEDIAN (2, 0.981855034828186): «every time look in the mirror all these lines on my face getting clearer the past is gone it went by like dusk to dawn isn that the way everybody got their dues in life to pay yeah know nobody knows where it comes and where it goes know it everybody sin you got to lose to know how to win half my life in books written pages live and learn from fools and from sages you know it true all the things come back to you sing with me sing for the year sing for the laughter sing for the tear sing with me if it just for today maybe tomorrow the good lord will take you away yeah sing with me sing for the year sing for the laughter sing for the tear sing with me if it just for today maybe tomorrow the good lord will take you away dream on dream on dream on dream until your dream comes true dream on dream on dream on dream until your dream comes through dream on dream on dream on dream on dream on dream on dream on ah sing with me sing for the year sing for the laughter sing for the tear sing with me if it just for today maybe tomorrow the good lord will take you away sing with me sing for the year sing for the laughter sing for the tear sing with me just for today maybe tomorrow the good lord will take you away»\n",
      "\n",
      "LEAST (1, 0.9778668284416199): «people try to put us down talkin bout my generation just because we get around talkin bout my generation things they do look awful cold talkin bout my generation hope die before get old talkin bout my generation this is my generation this is my generation baby why don you all fade away talkin bout my generation and don try to dig what we all say talkin bout my generation not trying to cause big sensation talkin bout my generation just talkin bout my generation talkin bout my generation this is my generation this is my generation baby why don you all fade away talkin bout my generation and don try to dig what we all say talkin bout my generation not trying to cause big sensation talkin bout my generation just talkin bout my generation talkin bout my generation this is my generation this is my generation baby people try to put us down talkin bout my generation just because we get around talkin bout my generation things they do look awful cold talkin bout my generation yeah hope die before get old talkin bout my generation this is my generation this is my generation baby»\n",
      "\n"
     ]
    }
   ],
   "source": [
    "# Pick a random document from the test corpus and infer a vector from the model\n",
    "doc_id = random.randint(0, len(test_corpus) - 1)\n",
    "inferred_vector = model.infer_vector(test_corpus[doc_id])\n",
    "sims = model.docvecs.most_similar([inferred_vector], topn=len(model.docvecs))\n",
    "\n",
    "# Compare and print the most/median/least similar documents from the train corpus\n",
    "print('Test Document ({}): «{}»\\n'.format(doc_id, ' '.join(test_corpus[doc_id])))\n",
    "print(u'SIMILAR/DISSIMILAR DOCS PER MODEL %s:\\n' % model)\n",
    "for label, index in [('MOST', 0), ('MEDIAN', len(sims)//2), ('LEAST', len(sims) - 1)]:\n",
    "    print(u'%s %s: «%s»\\n' % (label, sims[index], ' '.join(train_corpus[sims[index][0]].words)))"
   ]
  },
  {
   "cell_type": "code",
   "execution_count": null,
   "metadata": {},
   "outputs": [],
   "source": []
  },
  {
   "cell_type": "code",
   "execution_count": null,
   "metadata": {},
   "outputs": [],
   "source": []
  }
 ],
 "metadata": {
  "kernelspec": {
   "display_name": "Python 3",
   "language": "python",
   "name": "python3"
  },
  "language_info": {
   "codemirror_mode": {
    "name": "ipython",
    "version": 3
   },
   "file_extension": ".py",
   "mimetype": "text/x-python",
   "name": "python",
   "nbconvert_exporter": "python",
   "pygments_lexer": "ipython3",
   "version": "3.7.2"
  }
 },
 "nbformat": 4,
 "nbformat_minor": 2
}
